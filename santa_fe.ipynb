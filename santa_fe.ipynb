{
 "cells": [
  {
   "cell_type": "code",
   "execution_count": null,
   "metadata": {},
   "outputs": [],
   "source": [
    "import pandas\n",
    "\n",
    "folder = \"datos/\"\n",
    "grupo_etario = folder + \"notificaciones_grupo_etario.csv\"\n",
    "localidades = folder + \"notificaciones_localidad.csv\"\n",
    "provincial = folder + \"notificaciones_total_provincial.csv\"\n",
    "depto = folder + \"santa_fe_departamento_localidad.csv\""
   ]
  },
  {
   "cell_type": "code",
   "execution_count": null,
   "metadata": {},
   "outputs": [],
   "source": [
    "etario_df = pandas.read_csv(grupo_etario)\n",
    "localidades_df = pandas.read_csv(localidades)\n",
    "provincial_df = pandas.read_csv(provincial)\n",
    "depto_df = pandas.read_csv(depto)"
   ]
  },
  {
   "cell_type": "code",
   "execution_count": null,
   "metadata": {},
   "outputs": [],
   "source": [
    "last_day = localidades_df.iloc[-1][\"Fecha\"]\n",
    "the_day_before = localidades_df[localidades_df[\"Fecha\"] != last_day].iloc[-1][\"Fecha\"]\n",
    "last_day"
   ]
  },
  {
   "cell_type": "code",
   "execution_count": null,
   "metadata": {},
   "outputs": [],
   "source": [
    "last_day_data = localidades_df[localidades_df[\"Fecha\"] == last_day]\n",
    "day_before_data = localidades_df[localidades_df[\"Fecha\"] == the_day_before]"
   ]
  },
  {
   "cell_type": "markdown",
   "metadata": {},
   "source": [
    "# Rafaela"
   ]
  },
  {
   "cell_type": "code",
   "execution_count": null,
   "metadata": {},
   "outputs": [],
   "source": [
    "localidades_df[localidades_df[\"Localidad\"] == \"RAFAELA\"].iloc[-10:]"
   ]
  },
  {
   "cell_type": "markdown",
   "metadata": {},
   "source": [
    "# New cases"
   ]
  },
  {
   "cell_type": "code",
   "execution_count": null,
   "metadata": {},
   "outputs": [],
   "source": [
    "new_cases = {\"city\": [], \"new_cases\": [], \"total_cases\": []}\n",
    "for localidad, today_confirmed in last_day_data[[\"Localidad\", \"Confirmados\"]].values:\n",
    "    try:\n",
    "        yesterday_confirmed = day_before_data[day_before_data[\"Localidad\"] == localidad][\"Confirmados\"].iloc[0]\n",
    "    except IndexError:\n",
    "        print(\"Index error with\", localidad)\n",
    "        yesterday_confirmed = 0\n",
    "        \n",
    "    if today_confirmed != yesterday_confirmed:\n",
    "        news = today_confirmed - yesterday_confirmed\n",
    "        new_cases[\"city\"].append(localidad)\n",
    "        new_cases[\"new_cases\"].append(news)\n",
    "        new_cases[\"total_cases\"].append(today_confirmed)\n",
    "\n",
    "new_df = pandas.DataFrame(new_cases)\n",
    "new_df.sort_values([\"new_cases\"], ascending=False)"
   ]
  },
  {
   "cell_type": "code",
   "execution_count": null,
   "metadata": {},
   "outputs": [],
   "source": []
  }
 ],
 "metadata": {
  "kernelspec": {
   "display_name": "Python 3",
   "language": "python",
   "name": "python3"
  },
  "language_info": {
   "codemirror_mode": {
    "name": "ipython",
    "version": 3
   },
   "file_extension": ".py",
   "mimetype": "text/x-python",
   "name": "python",
   "nbconvert_exporter": "python",
   "pygments_lexer": "ipython3",
   "version": "3.6.3"
  }
 },
 "nbformat": 4,
 "nbformat_minor": 4
}
